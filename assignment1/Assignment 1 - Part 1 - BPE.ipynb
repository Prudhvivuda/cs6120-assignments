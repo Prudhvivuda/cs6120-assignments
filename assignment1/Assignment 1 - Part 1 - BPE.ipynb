{
 "cells": [
  {
   "cell_type": "markdown",
   "metadata": {},
   "source": [
    "# Assignment 1 - Part 1\n",
    "\n",
    "# Byte Pair Encoding (BPE) Implementation and Evaluation on NLTK Dataset"
   ]
  },
  {
   "cell_type": "code",
   "execution_count": 1,
   "metadata": {},
   "outputs": [],
   "source": [
    "# importing necessary packages\n",
    "\n",
    "import re\n",
    "from collections import defaultdict, Counter\n",
    "import nltk\n",
    "from nltk.corpus import gutenberg\n",
    "import matplotlib.pyplot as plt\n",
    "import json\n",
    "from nltk.tokenize import word_tokenize\n",
    "from sklearn.metrics import precision_score, recall_score, f1_score, jaccard_score\n",
    "import string"
   ]
  },
  {
   "cell_type": "markdown",
   "metadata": {},
   "source": [
    "## 1. BPE Algorithm"
   ]
  },
  {
   "cell_type": "code",
   "execution_count": 2,
   "metadata": {},
   "outputs": [],
   "source": [
    "# Byte Pair Encoding class\n",
    "\n",
    "class BytePairEncoding:\n",
    "    def __init__(self, vocab=None, num_merges=10):\n",
    "        self.vocab = vocab or {}\n",
    "        self.num_merges = num_merges\n",
    "        self.bpe_merges = []\n",
    "\n",
    "    def _get_stats(self):\n",
    "        \"\"\"Count frequency of adjacent symbol pairs in the vocabulary.\"\"\"\n",
    "        pairs = defaultdict(int)\n",
    "        for word, freq in self.vocab.items():\n",
    "            symbols = word.split()\n",
    "            for i in range(len(symbols) - 1):\n",
    "                pairs[(symbols[i], symbols[i + 1])] += freq\n",
    "        return pairs\n",
    "\n",
    "    def _merge_vocab(self, pair):\n",
    "        \"\"\"Merge the most frequent pair into a single symbol in the vocabulary.\"\"\"\n",
    "        new_vocab = {}\n",
    "        bigram = re.escape(' '.join(pair))\n",
    "        pattern = re.compile(rf'(?<!\\S){bigram}(?!\\S)')\n",
    "        for word in self.vocab:\n",
    "            new_word = pattern.sub(''.join(pair), word)\n",
    "            new_vocab[new_word] = self.vocab[word]\n",
    "        return new_vocab\n",
    "\n",
    "    def learn_bpe(self):\n",
    "        \"\"\"Learn the Byte Pair Encoding merges.\"\"\"\n",
    "        for _ in range(self.num_merges):\n",
    "            pairs = self._get_stats()\n",
    "            if not pairs:\n",
    "                break\n",
    "            best_pair = max(pairs, key=pairs.get)\n",
    "            self.bpe_merges.append(best_pair)\n",
    "            self.vocab = self._merge_vocab(best_pair)\n",
    "\n",
    "    def encode(self, word):\n",
    "        \"\"\"Encode a word using the learned BPE merges.\"\"\"\n",
    "        symbols = list(word)\n",
    "        for pair in self.bpe_merges:\n",
    "            i = 0\n",
    "            while i < len(symbols) - 1:\n",
    "                if (symbols[i], symbols[i + 1]) == pair:\n",
    "                    symbols[i:i + 2] = [''.join(pair)]\n",
    "                else:\n",
    "                    i += 1\n",
    "        return symbols\n",
    "\n",
    "    def decode(self, encoded_word):\n",
    "        \"\"\"Decode a word by splitting merged symbols back into individual characters.\"\"\"\n",
    "        decoded = ' '.join(encoded_word)\n",
    "        for pair in reversed(self.bpe_merges):\n",
    "            merged = ''.join(pair)\n",
    "            decoded = decoded.replace(merged, ' '.join(pair))\n",
    "        return decoded.replace(' ', '')"
   ]
  },
  {
   "cell_type": "code",
   "execution_count": 3,
   "metadata": {},
   "outputs": [],
   "source": [
    "# Helper Functions\n",
    "\n",
    "def preprocess_text(text):\n",
    "    \"\"\"Preprocess text to create a vocabulary with word frequencies.\"\"\"\n",
    "    words = text.lower().split()\n",
    "    vocab = Counter([' '.join(word) for word in words])\n",
    "    return dict(vocab)\n",
    "\n",
    "def train_bpe_on_corpus(corpus, num_merges=50):\n",
    "    \"\"\"Train BPE on a given corpus.\"\"\"\n",
    "    vocab = preprocess_text(corpus)\n",
    "    bpe = BytePairEncoding(vocab, num_merges=num_merges)\n",
    "    bpe.learn_bpe()\n",
    "    return bpe"
   ]
  },
  {
   "cell_type": "markdown",
   "metadata": {},
   "source": [
    "## 2. Train on NLTK Dataset"
   ]
  },
  {
   "cell_type": "code",
   "execution_count": 4,
   "metadata": {},
   "outputs": [
    {
     "name": "stderr",
     "output_type": "stream",
     "text": [
      "[nltk_data] Downloading package gutenberg to\n",
      "[nltk_data]     /Users/prudhvivuda/nltk_data...\n",
      "[nltk_data]   Package gutenberg is already up-to-date!\n"
     ]
    },
    {
     "data": {
      "text/plain": [
       "True"
      ]
     },
     "execution_count": 4,
     "metadata": {},
     "output_type": "execute_result"
    }
   ],
   "source": [
    "import nltk\n",
    "\n",
    "# Download the NLTK Gutenberg Corpus\n",
    "nltk.download('gutenberg')"
   ]
  },
  {
   "cell_type": "code",
   "execution_count": 5,
   "metadata": {},
   "outputs": [
    {
     "data": {
      "text/plain": [
       "['austen-emma.txt',\n",
       " 'austen-persuasion.txt',\n",
       " 'austen-sense.txt',\n",
       " 'bible-kjv.txt',\n",
       " 'blake-poems.txt',\n",
       " 'bryant-stories.txt',\n",
       " 'burgess-busterbrown.txt',\n",
       " 'carroll-alice.txt',\n",
       " 'chesterton-ball.txt',\n",
       " 'chesterton-brown.txt',\n",
       " 'chesterton-thursday.txt',\n",
       " 'edgeworth-parents.txt',\n",
       " 'melville-moby_dick.txt',\n",
       " 'milton-paradise.txt',\n",
       " 'shakespeare-caesar.txt',\n",
       " 'shakespeare-hamlet.txt',\n",
       " 'shakespeare-macbeth.txt',\n",
       " 'whitman-leaves.txt']"
      ]
     },
     "execution_count": 5,
     "metadata": {},
     "output_type": "execute_result"
    }
   ],
   "source": [
    "# Import the Gutenberg Corpus module\n",
    "from nltk.corpus import gutenberg\n",
    "\n",
    "# Get the list of available books in the Gutenberg Corpus\n",
    "book_list = gutenberg.fileids()\n",
    "book_list"
   ]
  },
  {
   "cell_type": "code",
   "execution_count": 6,
   "metadata": {},
   "outputs": [
    {
     "name": "stdout",
     "output_type": "stream",
     "text": [
      "\n",
      "Sample Text from 'shakespeare-hamlet.txt':\n",
      "[The Tragedie of Hamlet by William Shakespeare 1599]\n",
      "\n",
      "\n",
      "Actus Primus. Scoena Prima.\n",
      "\n",
      "Enter Barnardo and Francisco two Centinels.\n",
      "\n",
      "  Barnardo. Who's there?\n",
      "  Fran. Nay answer me: Stand & vnfold\n",
      "your selfe\n",
      "\n",
      "   Bar. Long liue the King\n",
      "\n",
      "   Fran. Barnardo?\n",
      "  Bar. He\n",
      "\n",
      "   Fran. You come most carefully vpon your houre\n",
      "\n",
      "   Bar. 'Tis now strook twelue, get thee to bed Francisco\n",
      "\n",
      "   Fran. For this releefe much thankes: 'Tis bitter cold,\n",
      "And I am sicke at heart\n",
      "\n",
      "   Barn. Haue you had quiet Guard?\n",
      "  Fran. Not\n"
     ]
    }
   ],
   "source": [
    "# Load a specific book \n",
    "selected_book = gutenberg.raw('shakespeare-hamlet.txt')\n",
    "\n",
    "# Display the first 500 characters of the selected book\n",
    "print(\"\\nSample Text from 'shakespeare-hamlet.txt':\")\n",
    "print(selected_book[:500])"
   ]
  },
  {
   "cell_type": "markdown",
   "metadata": {},
   "source": [
    "### Training on BPE algorithm"
   ]
  },
  {
   "cell_type": "code",
   "execution_count": 7,
   "metadata": {},
   "outputs": [
    {
     "name": "stdout",
     "output_type": "stream",
     "text": [
      "Learned BPE Merges: [('h', 'e'), ('i', 'n'), ('a', 'n'), ('t', 'he'), ('r', 'e'), ('o', 'u'), ('o', 'n'), ('e', 'r'), ('h', 'a'), ('i', 't'), ('t', 'o'), ('e', 'n'), ('a', 's'), ('e', 'd'), ('an', 'd'), ('i', 's'), ('in', 'g'), ('o', 'f'), ('o', 'r'), ('b', 'e'), ('l', 'l'), ('a', 't'), ('n', 'o'), ('a', 'r'), ('t', 'h'), ('l', 'e'), ('s', 't'), ('s', 'e'), ('he', 'r'), ('o', 'm'), ('v', 'e'), ('l', 'd'), ('c', 'h'), ('v', 'er'), ('w', 'as'), ('l', 'y'), ('ha', 't'), ('s', 'he'), ('y', 'ou'), ('c', 'e'), ('g', 'h'), ('f', 'or'), ('w', 'e'), ('no', 't'), ('i', 'on'), ('h', 'i'), ('en', 't'), ('d', 'e'), ('a', 'l'), ('-', '-'), ('ou', 'ld'), ('n', 'e'), ('m', 'e'), ('s', 'u'), ('t', 'hat'), ('u', 't'), ('ha', 'd'), ('a', 'll'), ('a', 'y'), ('it', 'h'), ('i', 'r'), ('w', 'ith'), ('r', 'i'), ('s', 's'), ('c', 't'), ('l', 'i'), ('ver', 'y'), ('gh', 't'), ('s', 'o'), ('the', 'r'), ('m', 'r'), ('i', 'd'), ('f', 'e'), ('b', 'ut'), ('r', 'o'), ('h', 'o'), ('h', 'is'), ('t', 'er'), ('s', ','), ('m', 'o'), ('ha', 've'), ('a', 'd'), ('i', 'll'), ('c', 'on'), ('a', 'g'), ('m', 'u'), ('a', 'b'), ('a', 'in'), ('s', '.'), ('c', 'om'), ('p', 'o'), ('o', 'o'), ('hi', 'm'), ('e', 'l'), ('p', 'e'), ('m', 'a'), ('e', 'm'), ('.', '\"'), ('q', 'u'), ('u', 'n')]\n"
     ]
    }
   ],
   "source": [
    "# Load and preprocess training and test corpora\n",
    "\n",
    "# training_books = [\"austen-emma.txt\", \"blake-poems.txt\", \"shakespeare-hamlet.txt\"]\n",
    "# test_books = [\"austen-sense.txt\", \"shakespeare-macbeth.txt\", \"whitman-leaves.txt\"]\n",
    "\n",
    "training_books = ['austen-emma.txt','austen-persuasion.txt','austen-sense.txt']\n",
    "test_books = [ 'bible-kjv.txt', 'blake-poems.txt','bryant-stories.txt']\n",
    "\n",
    "training_corpus = \" \".join([gutenberg.raw(book) for book in training_books])\n",
    "test_corpus = \" \".join([gutenberg.raw(book) for book in test_books])\n",
    "\n",
    "# Train BPE on training corpus\n",
    "bpe = train_bpe_on_corpus(training_corpus, num_merges=100)\n",
    "print(\"Learned BPE Merges:\", bpe.bpe_merges)"
   ]
  },
  {
   "cell_type": "code",
   "execution_count": 8,
   "metadata": {},
   "outputs": [
    {
     "name": "stdout",
     "output_type": "stream",
     "text": [
      "Encoded 'Frankenstein': ['F', 'r', 'an', 'k', 'en', 'st', 'e', 'in']\n",
      "Decoded back: 'Frankenstein'\n"
     ]
    }
   ],
   "source": [
    "# Encode and decode a sample word\n",
    "sample_word = \"Frankenstein\"\n",
    "\n",
    "encoded = bpe.encode(sample_word)\n",
    "print(f\"Encoded '{sample_word}':\", encoded)\n",
    "\n",
    "decoded = bpe.decode(encoded)\n",
    "print(f\"Decoded back: '{decoded}'\")"
   ]
  },
  {
   "cell_type": "markdown",
   "metadata": {},
   "source": [
    "### Creating vocabulary based on the training"
   ]
  },
  {
   "cell_type": "code",
   "execution_count": 9,
   "metadata": {},
   "outputs": [],
   "source": [
    "test_vocab = preprocess_text(test_corpus)\n",
    "test_tokens = list(test_vocab.keys())"
   ]
  },
  {
   "cell_type": "code",
   "execution_count": 10,
   "metadata": {},
   "outputs": [
    {
     "name": "stderr",
     "output_type": "stream",
     "text": [
      "[nltk_data] Downloading package punkt to\n",
      "[nltk_data]     /Users/prudhvivuda/nltk_data...\n",
      "[nltk_data]   Package punkt is already up-to-date!\n",
      "[nltk_data] Downloading package punkt_tab to\n",
      "[nltk_data]     /Users/prudhvivuda/nltk_data...\n",
      "[nltk_data]   Package punkt_tab is already up-to-date!\n"
     ]
    },
    {
     "data": {
      "text/plain": [
       "True"
      ]
     },
     "execution_count": 10,
     "metadata": {},
     "output_type": "execute_result"
    }
   ],
   "source": [
    "nltk.download('punkt')\n",
    "from nltk.tokenize import word_tokenize\n",
    "nltk.download('punkt_tab')"
   ]
  },
  {
   "cell_type": "markdown",
   "metadata": {},
   "source": [
    "## 3. Test on NLTK Dataset"
   ]
  },
  {
   "cell_type": "markdown",
   "metadata": {},
   "source": [
    "### Evaluating and Measuring tokenization accuracy, coverage, and other relevant metrics."
   ]
  },
  {
   "cell_type": "code",
   "execution_count": 11,
   "metadata": {},
   "outputs": [
    {
     "name": "stdout",
     "output_type": "stream",
     "text": [
      "Evaluation Results:\n",
      "Tokenization Accuracy: 1.0000\n",
      "Coverage: 1.0000\n",
      "Number of BPE Tokens: 100\n"
     ]
    }
   ],
   "source": [
    "# Tokenize using BPE\n",
    "bpe_tokenized = {word.replace(\" \", \"\"): bpe.encode(word.replace(\" \", \"\")) for word in test_tokens}\n",
    "\n",
    "# Calculate evaluation metrics\n",
    "decoded = {word: ''.join(bpe.decode(tokens)) for word, tokens in bpe_tokenized.items()}\n",
    "original_tokens = [word.replace(\" \", \"\") for word in test_tokens]\n",
    "# tokenization_accuracy = sum([decoded[word] == word for word in original_tokens]) / len(original_tokens)\n",
    "tokenization_accuracy = sum([t == d for t, d in zip(original_tokens, decoded)]) / len(original_tokens)\n",
    "coverage = len([1 for word, tokens in bpe_tokenized.items() if len(tokens) > 0]) / len(original_tokens)\n",
    "\n",
    "# Output results\n",
    "print(\"Evaluation Results:\")\n",
    "print(f\"Tokenization Accuracy: {tokenization_accuracy:.4f}\")\n",
    "print(f\"Coverage: {coverage:.4f}\")\n",
    "print(f\"Number of BPE Tokens: {len(bpe.bpe_merges)}\")"
   ]
  },
  {
   "cell_type": "markdown",
   "metadata": {},
   "source": [
    "## 4. Create Reference Tokenization"
   ]
  },
  {
   "cell_type": "markdown",
   "metadata": {},
   "source": [
    "### Creating a reference tokenization for the test dataset"
   ]
  },
  {
   "cell_type": "code",
   "execution_count": 12,
   "metadata": {},
   "outputs": [
    {
     "name": "stdout",
     "output_type": "stream",
     "text": [
      "Tokenized results saved to 'tokenization_results.json'\n"
     ]
    }
   ],
   "source": [
    "# Tokenize using NLTK Punkt tokenizer\n",
    "nltk_tokenized = word_tokenize(test_corpus)\n",
    "\n",
    "# Save results in structured format\n",
    "results = {\n",
    "    \"bpe_tokenized\": bpe_tokenized,\n",
    "    \"nltk_tokenized\": nltk_tokenized\n",
    "}\n",
    "\n",
    "# Save to JSON file\n",
    "with open(\"tokenization_results.json\", \"w\") as f:\n",
    "    json.dump(results, f, indent=4)\n",
    "    \n",
    "print(\"Tokenized results saved to 'tokenization_results.json'\")"
   ]
  },
  {
   "cell_type": "markdown",
   "metadata": {},
   "source": [
    "## 5. Compare with Standard Tokenization"
   ]
  },
  {
   "cell_type": "code",
   "execution_count": 22,
   "metadata": {},
   "outputs": [
    {
     "name": "stdout",
     "output_type": "stream",
     "text": [
      "['', 'The', 'King', 'James', 'Bible', '', 'The', 'Old', 'Testament', 'of', 'the', 'King', 'James', 'Bible', 'The', 'First', 'Book', 'of', 'Moses', '', 'Called', 'Genesis', '1:1', 'In', 'the']\n"
     ]
    }
   ],
   "source": [
    "# Baseline tokenization (NLTK word_tokenize)\n",
    "nltk_tokens = word_tokenize(test_corpus)\n",
    "\n",
    "nltk_flat_tokens = [token.strip(string.punctuation) for token in nltk_tokens]\n",
    "print(nltk_flat_tokens[:25])"
   ]
  },
  {
   "cell_type": "code",
   "execution_count": 14,
   "metadata": {},
   "outputs": [
    {
     "name": "stdout",
     "output_type": "stream",
     "text": [
      "['[the', 'king', 'james', 'bible]', 'the', 'old', 'testament', 'of', 'bible', 'first', 'book', 'moses:', 'called', 'genesis', '1:1', 'in', 'beginning', 'god', 'created', 'heaven', 'and', 'earth.', '1:2', 'earth', 'was']\n",
      "['the', 'king', 'james', 'bible', 'the', 'old', 'testament', 'of', 'bible', 'first', 'book', 'moses', 'called', 'genesis', '1:1', 'in', 'beginning', 'god', 'created', 'heaven', 'and', 'earth', '1:2', 'earth', 'was']\n"
     ]
    }
   ],
   "source": [
    "bpe_tokens = {word.replace(\" \", \"\"): bpe.encode(word.replace(\" \", \"\")) for word in test_tokens}\n",
    "\n",
    "bpe_flat_tokens = []\n",
    "for word, subwords in bpe_tokens.items():\n",
    "    bpe_flat_tokens.append(''.join(subwords))\n",
    "\n",
    "bpe_flat_tokens1 = [token.strip(string.punctuation) for token in bpe_tokens]\n",
    "\n",
    "print(bpe_flat_tokens[:25])\n",
    "print(bpe_flat_tokens1[:25])"
   ]
  },
  {
   "cell_type": "code",
   "execution_count": 33,
   "metadata": {},
   "outputs": [],
   "source": [
    "# Helper function to calculate metrics\n",
    "def evaluate_tokenization(reference_tokens, test_tokens):\n",
    "    # print(reference_tokens)\n",
    "    # print(test_tokens)\n",
    "    \"\"\"\n",
    "    Evaluate tokenization results using Precision, Recall, F1, and Jaccard Similarity.\n",
    "    Args:\n",
    "        reference_tokens (list of str): The ground truth tokens (baseline).\n",
    "        test_tokens (list of str): The tokens generated by the BPE algorithm.\n",
    "    Returns:\n",
    "        dict: A dictionary containing Precision, Recall, F1, and Jaccard scores.\n",
    "    \"\"\"\n",
    "    # Flatten token lists to handle all tokens together\n",
    "    reference_set = set(reference_tokens)\n",
    "    test_set = set(test_tokens)\n",
    "\n",
    "    # Calculate metrics\n",
    "    precision = len(reference_set & test_set) / len(test_set) if test_set else 0\n",
    "    recall = len(reference_set & test_set) / len(reference_set) if reference_set else 0\n",
    "    f1 = (2 * precision * recall) / (precision + recall) if precision + recall > 0 else 0\n",
    "    jaccard = len(reference_set & test_set) / len(reference_set | test_set) if reference_set | test_set else 0\n",
    "    tokenization_accuracy = sum([t == d for t, d in zip(reference_set, test_set)]) / len(reference_set)\n",
    "    coverage = len(test_set) / len(reference_set)\n",
    "\n",
    "    # print([t == d for t, d in zip(reference_set, test_set)])\n",
    "    # no_of_correctly_tokenized_tokens = sum([t == d for t, d in zip(reference_set, test_set)])\n",
    "    # print(no_of_correctly_tokenized_tokens)\n",
    "    # print(no_of_correctly_tokenized_tokens / len(reference_set))\n",
    "    \n",
    "    # correct = 0\n",
    "    # total = len(reference_set)\n",
    "    # for token in reference_set:\n",
    "    #     # encoded = bpe.encode(token)  # Encode the token\n",
    "    #     decoded = bpe.decode(encoded)  # Decode the token\n",
    "    #     if decoded == token:\n",
    "    #         correct += 1  # Count as correct if the decoded token matches the original\n",
    "    \n",
    "    # print(correct, total) \n",
    "    # print(correct / total) # if total > 0 else 0.0 \n",
    "    \n",
    "    # Convert lists to sets and find the intersection\n",
    "    intersection = set(nltk_flat_tokens).intersection(set(bpe_flat_tokens1))\n",
    "\n",
    "    # Convert back to a list (optional)\n",
    "    intersection_list = list(intersection)\n",
    "\n",
    "    # print(len(intersection_list), len(set(nltk_flat_tokens)))\n",
    "\n",
    "    tokenization_accuracy = len(intersection_list)/len(set(nltk_flat_tokens))*100\n",
    "\n",
    "    return {\n",
    "        \"Precision\": precision,\n",
    "        \"Recall\": recall,\n",
    "        \"F1-Score\": f1,\n",
    "        \"Jaccard Similarity\": jaccard,\n",
    "        \"Tokenization Accuracy\": tokenization_accuracy,\n",
    "        \"Coverage\": coverage*100,\n",
    "    }"
   ]
  },
  {
   "cell_type": "code",
   "execution_count": 34,
   "metadata": {},
   "outputs": [
    {
     "name": "stdout",
     "output_type": "stream",
     "text": [
      "Evaluation Results:\n",
      "Tokenization Accuracy: 74.4\n",
      "Coverage: 94.58536585365853\n",
      "Precision: 0.7865910263022177\n",
      "Recall: 0.744\n",
      "F1-Score: 0.7647029330659313\n",
      "Jaccard Similarity: 0.6190437535514246\n"
     ]
    }
   ],
   "source": [
    "# Evaluate tokenization\n",
    "metrics = evaluate_tokenization(nltk_flat_tokens, bpe_flat_tokens1)\n",
    "\n",
    "# Display results\n",
    "print(\"Evaluation Results:\")\n",
    "print(f\"Tokenization Accuracy: {metrics['Tokenization Accuracy']}\")\n",
    "print(f\"Coverage: {metrics['Coverage']}\")\n",
    "print(f\"Precision: {metrics['Precision']}\")\n",
    "print(f\"Recall: {metrics['Recall']}\")\n",
    "print(f\"F1-Score: {metrics['F1-Score']}\")\n",
    "print(f\"Jaccard Similarity: {metrics['Jaccard Similarity']}\")\n"
   ]
  },
  {
   "cell_type": "markdown",
   "metadata": {},
   "source": [
    "## 6. Visualizations"
   ]
  },
  {
   "cell_type": "code",
   "execution_count": 17,
   "metadata": {},
   "outputs": [],
   "source": [
    "def visualize_bpe_learning(bpe):\n",
    "    \"\"\"\n",
    "    Visualize the learning process of Byte Pair Encoding (BPE).\n",
    "\n",
    "    Parameters:\n",
    "        bpe (BytePairEncoding): An instance of the BytePairEncoding class.\n",
    "    \"\"\"\n",
    "    # Lists to store the number of merges and corresponding pair frequencies\n",
    "    merge_counts = []\n",
    "    pair_frequencies = []\n",
    "\n",
    "    # Make a copy of the initial vocabulary to reset after visualization\n",
    "    original_vocab = bpe.vocab.copy()\n",
    "\n",
    "    for i in range(bpe.num_merges):\n",
    "        # Get current pair statistics\n",
    "        pairs = bpe._get_stats()\n",
    "\n",
    "        # Break if there are no pairs left to merge\n",
    "        if not pairs:\n",
    "            break\n",
    "\n",
    "        # Select the best pair to merge\n",
    "        best_pair = max(pairs, key=pairs.get)\n",
    "        bpe.bpe_merges.append(best_pair)\n",
    "\n",
    "        # Merge the best pair in the vocabulary\n",
    "        bpe.vocab = bpe._merge_vocab(best_pair)\n",
    "\n",
    "        # Track the number of merges and the total frequency of pairs\n",
    "        merge_counts.append(i + 1)\n",
    "        pair_frequencies.append(sum(pairs.values()))\n",
    "\n",
    "    # Restore the original vocabulary\n",
    "    bpe.vocab = original_vocab\n",
    "\n",
    "    # Plot the data\n",
    "    plt.figure(figsize=(10, 6))\n",
    "    plt.plot(merge_counts, pair_frequencies, marker='o', linestyle='-', color='b')\n",
    "    plt.title(\"BPE Learning: Frequency of Merged Pairs\")\n",
    "    plt.xlabel(\"Number of Merges\")\n",
    "    plt.ylabel(\"Total Pair Frequency\")\n",
    "    plt.grid(True)\n",
    "    plt.show()"
   ]
  },
  {
   "cell_type": "code",
   "execution_count": 18,
   "metadata": {},
   "outputs": [
    {
     "data": {
      "image/png": "[encoded data removed]",
      "text/plain": [
       "<Figure size 1000x600 with 1 Axes>"
      ]
     },
     "metadata": {},
     "output_type": "display_data"
    }
   ],
   "source": [
    "# Visualize BPE learning\n",
    "visualize_bpe_learning(bpe)"
   ]
  }
 ],
 "metadata": {
  "kernelspec": {
   "display_name": ".venv",
   "language": "python",
   "name": "python3"
  },
  "language_info": {
   "codemirror_mode": {
    "name": "ipython",
    "version": 3
   },
   "file_extension": ".py",
   "mimetype": "text/x-python",
   "name": "python",
   "nbconvert_exporter": "python",
   "pygments_lexer": "ipython3",
   "version": "3.13.1"
  }
 },
 "nbformat": 4,
 "nbformat_minor": 2
}
